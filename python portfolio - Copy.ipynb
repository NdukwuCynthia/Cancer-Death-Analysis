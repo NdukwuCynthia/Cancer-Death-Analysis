{
 "cells": [
  {
   "cell_type": "markdown",
   "id": "e4173187",
   "metadata": {},
   "source": [
    "# '''\n",
    "This dataset contains medical and lifestyle information for 1500 patients, designed to predict the \n",
    "presence of cancer based on various features. \n",
    "\n",
    "'''"
   ]
  },
  {
   "cell_type": "code",
   "execution_count": 4,
   "id": "dbe95d16",
   "metadata": {},
   "outputs": [],
   "source": [
    " df=pd.read_csv(r\"C:\\Users\\OMETERE\\Downloads\\The_Cancer_data_1500_V2.csv\")"
   ]
  },
  {
   "cell_type": "code",
   "execution_count": 5,
   "id": "33828341",
   "metadata": {},
   "outputs": [
    {
     "data": {
      "text/html": [
       "<div>\n",
       "<style scoped>\n",
       "    .dataframe tbody tr th:only-of-type {\n",
       "        vertical-align: middle;\n",
       "    }\n",
       "\n",
       "    .dataframe tbody tr th {\n",
       "        vertical-align: top;\n",
       "    }\n",
       "\n",
       "    .dataframe thead th {\n",
       "        text-align: right;\n",
       "    }\n",
       "</style>\n",
       "<table border=\"1\" class=\"dataframe\">\n",
       "  <thead>\n",
       "    <tr style=\"text-align: right;\">\n",
       "      <th></th>\n",
       "      <th>Age</th>\n",
       "      <th>Gender</th>\n",
       "      <th>BMI</th>\n",
       "      <th>Smoking</th>\n",
       "      <th>GeneticRisk</th>\n",
       "      <th>PhysicalActivity</th>\n",
       "      <th>AlcoholIntake</th>\n",
       "      <th>CancerHistory</th>\n",
       "      <th>Diagnosis</th>\n",
       "    </tr>\n",
       "  </thead>\n",
       "  <tbody>\n",
       "    <tr>\n",
       "      <th>0</th>\n",
       "      <td>58</td>\n",
       "      <td>1</td>\n",
       "      <td>16.085313</td>\n",
       "      <td>0</td>\n",
       "      <td>1</td>\n",
       "      <td>8.146251</td>\n",
       "      <td>4.148219</td>\n",
       "      <td>1</td>\n",
       "      <td>1</td>\n",
       "    </tr>\n",
       "    <tr>\n",
       "      <th>1</th>\n",
       "      <td>71</td>\n",
       "      <td>0</td>\n",
       "      <td>30.828784</td>\n",
       "      <td>0</td>\n",
       "      <td>1</td>\n",
       "      <td>9.361630</td>\n",
       "      <td>3.519683</td>\n",
       "      <td>0</td>\n",
       "      <td>0</td>\n",
       "    </tr>\n",
       "    <tr>\n",
       "      <th>2</th>\n",
       "      <td>48</td>\n",
       "      <td>1</td>\n",
       "      <td>38.785084</td>\n",
       "      <td>0</td>\n",
       "      <td>2</td>\n",
       "      <td>5.135179</td>\n",
       "      <td>4.728368</td>\n",
       "      <td>0</td>\n",
       "      <td>1</td>\n",
       "    </tr>\n",
       "    <tr>\n",
       "      <th>3</th>\n",
       "      <td>34</td>\n",
       "      <td>0</td>\n",
       "      <td>30.040295</td>\n",
       "      <td>0</td>\n",
       "      <td>0</td>\n",
       "      <td>9.502792</td>\n",
       "      <td>2.044636</td>\n",
       "      <td>0</td>\n",
       "      <td>0</td>\n",
       "    </tr>\n",
       "    <tr>\n",
       "      <th>4</th>\n",
       "      <td>62</td>\n",
       "      <td>1</td>\n",
       "      <td>35.479721</td>\n",
       "      <td>0</td>\n",
       "      <td>0</td>\n",
       "      <td>5.356890</td>\n",
       "      <td>3.309849</td>\n",
       "      <td>0</td>\n",
       "      <td>1</td>\n",
       "    </tr>\n",
       "    <tr>\n",
       "      <th>...</th>\n",
       "      <td>...</td>\n",
       "      <td>...</td>\n",
       "      <td>...</td>\n",
       "      <td>...</td>\n",
       "      <td>...</td>\n",
       "      <td>...</td>\n",
       "      <td>...</td>\n",
       "      <td>...</td>\n",
       "      <td>...</td>\n",
       "    </tr>\n",
       "    <tr>\n",
       "      <th>1495</th>\n",
       "      <td>62</td>\n",
       "      <td>1</td>\n",
       "      <td>25.090025</td>\n",
       "      <td>0</td>\n",
       "      <td>0</td>\n",
       "      <td>9.892167</td>\n",
       "      <td>1.284158</td>\n",
       "      <td>0</td>\n",
       "      <td>1</td>\n",
       "    </tr>\n",
       "    <tr>\n",
       "      <th>1496</th>\n",
       "      <td>31</td>\n",
       "      <td>0</td>\n",
       "      <td>33.447125</td>\n",
       "      <td>0</td>\n",
       "      <td>1</td>\n",
       "      <td>1.668297</td>\n",
       "      <td>2.280636</td>\n",
       "      <td>1</td>\n",
       "      <td>1</td>\n",
       "    </tr>\n",
       "    <tr>\n",
       "      <th>1497</th>\n",
       "      <td>63</td>\n",
       "      <td>1</td>\n",
       "      <td>32.613861</td>\n",
       "      <td>1</td>\n",
       "      <td>1</td>\n",
       "      <td>0.466848</td>\n",
       "      <td>0.150101</td>\n",
       "      <td>0</td>\n",
       "      <td>1</td>\n",
       "    </tr>\n",
       "    <tr>\n",
       "      <th>1498</th>\n",
       "      <td>55</td>\n",
       "      <td>0</td>\n",
       "      <td>25.568216</td>\n",
       "      <td>0</td>\n",
       "      <td>0</td>\n",
       "      <td>7.795317</td>\n",
       "      <td>1.986138</td>\n",
       "      <td>1</td>\n",
       "      <td>1</td>\n",
       "    </tr>\n",
       "    <tr>\n",
       "      <th>1499</th>\n",
       "      <td>67</td>\n",
       "      <td>1</td>\n",
       "      <td>23.663104</td>\n",
       "      <td>0</td>\n",
       "      <td>0</td>\n",
       "      <td>2.525860</td>\n",
       "      <td>2.856600</td>\n",
       "      <td>1</td>\n",
       "      <td>0</td>\n",
       "    </tr>\n",
       "  </tbody>\n",
       "</table>\n",
       "<p>1500 rows × 9 columns</p>\n",
       "</div>"
      ],
      "text/plain": [
       "      Age  Gender        BMI  Smoking  GeneticRisk  PhysicalActivity  \\\n",
       "0      58       1  16.085313        0            1          8.146251   \n",
       "1      71       0  30.828784        0            1          9.361630   \n",
       "2      48       1  38.785084        0            2          5.135179   \n",
       "3      34       0  30.040295        0            0          9.502792   \n",
       "4      62       1  35.479721        0            0          5.356890   \n",
       "...   ...     ...        ...      ...          ...               ...   \n",
       "1495   62       1  25.090025        0            0          9.892167   \n",
       "1496   31       0  33.447125        0            1          1.668297   \n",
       "1497   63       1  32.613861        1            1          0.466848   \n",
       "1498   55       0  25.568216        0            0          7.795317   \n",
       "1499   67       1  23.663104        0            0          2.525860   \n",
       "\n",
       "      AlcoholIntake  CancerHistory  Diagnosis  \n",
       "0          4.148219              1          1  \n",
       "1          3.519683              0          0  \n",
       "2          4.728368              0          1  \n",
       "3          2.044636              0          0  \n",
       "4          3.309849              0          1  \n",
       "...             ...            ...        ...  \n",
       "1495       1.284158              0          1  \n",
       "1496       2.280636              1          1  \n",
       "1497       0.150101              0          1  \n",
       "1498       1.986138              1          1  \n",
       "1499       2.856600              1          0  \n",
       "\n",
       "[1500 rows x 9 columns]"
      ]
     },
     "execution_count": 5,
     "metadata": {},
     "output_type": "execute_result"
    }
   ],
   "source": [
    "df"
   ]
  },
  {
   "cell_type": "code",
   "execution_count": 8,
   "id": "74809621",
   "metadata": {},
   "outputs": [
    {
     "data": {
      "text/plain": [
       "Age                   int64\n",
       "Gender                int64\n",
       "BMI                 float64\n",
       "Smoking               int64\n",
       "GeneticRisk           int64\n",
       "PhysicalActivity    float64\n",
       "AlcoholIntake       float64\n",
       "CancerHistory         int64\n",
       "Diagnosis             int64\n",
       "dtype: object"
      ]
     },
     "execution_count": 8,
     "metadata": {},
     "output_type": "execute_result"
    }
   ],
   "source": [
    "df.dtypes"
   ]
  },
  {
   "cell_type": "code",
   "execution_count": null,
   "id": "ee584fbc",
   "metadata": {},
   "outputs": [],
   "source": []
  },
  {
   "cell_type": "code",
   "execution_count": 10,
   "id": "66a24043",
   "metadata": {},
   "outputs": [
    {
     "data": {
      "text/plain": [
       "count    1500.000000\n",
       "mean       50.320000\n",
       "std        17.640968\n",
       "min        20.000000\n",
       "25%        35.000000\n",
       "50%        51.000000\n",
       "75%        66.000000\n",
       "max        80.000000\n",
       "Name: Age, dtype: float64"
      ]
     },
     "execution_count": 10,
     "metadata": {},
     "output_type": "execute_result"
    }
   ],
   "source": [
    "df['Age'].describe()"
   ]
  },
  {
   "cell_type": "code",
   "execution_count": 11,
   "id": "07e2c888",
   "metadata": {},
   "outputs": [
    {
     "data": {
      "text/plain": [
       "0       female\n",
       "1         male\n",
       "2       female\n",
       "3         male\n",
       "4       female\n",
       "         ...  \n",
       "1495    female\n",
       "1496      male\n",
       "1497    female\n",
       "1498      male\n",
       "1499    female\n",
       "Name: Gender, Length: 1500, dtype: object"
      ]
     },
     "execution_count": 11,
     "metadata": {},
     "output_type": "execute_result"
    }
   ],
   "source": [
    "# to assign the  values to the   types  of  gender, we   carry out the  gender mapping\n",
    "\n",
    "gender_mapping={0:'male',1:'female'}\n",
    "df['Gender']=df['Gender'].map(gender_mapping)\n",
    "df['Gender']"
   ]
  },
  {
   "cell_type": "markdown",
   "id": "87ff6f5f",
   "metadata": {},
   "source": [
    "# QUESTIONS"
   ]
  },
  {
   "cell_type": "markdown",
   "id": "290f6b5d",
   "metadata": {},
   "source": [
    "# What  is   the   distribution  of  Ages  across cancer  diagnosis.\n"
   ]
  },
  {
   "cell_type": "code",
   "execution_count": 20,
   "id": "44c17685",
   "metadata": {},
   "outputs": [
    {
     "data": {
      "text/html": [
       "<div>\n",
       "<style scoped>\n",
       "    .dataframe tbody tr th:only-of-type {\n",
       "        vertical-align: middle;\n",
       "    }\n",
       "\n",
       "    .dataframe tbody tr th {\n",
       "        vertical-align: top;\n",
       "    }\n",
       "\n",
       "    .dataframe thead th {\n",
       "        text-align: right;\n",
       "    }\n",
       "</style>\n",
       "<table border=\"1\" class=\"dataframe\">\n",
       "  <thead>\n",
       "    <tr style=\"text-align: right;\">\n",
       "      <th></th>\n",
       "      <th>AgeGroup</th>\n",
       "      <th>Diagnosis</th>\n",
       "    </tr>\n",
       "  </thead>\n",
       "  <tbody>\n",
       "    <tr>\n",
       "      <th>0</th>\n",
       "      <td>20-29</td>\n",
       "      <td>0.251029</td>\n",
       "    </tr>\n",
       "    <tr>\n",
       "      <th>1</th>\n",
       "      <td>30-39</td>\n",
       "      <td>0.289593</td>\n",
       "    </tr>\n",
       "    <tr>\n",
       "      <th>2</th>\n",
       "      <td>40-49</td>\n",
       "      <td>0.230769</td>\n",
       "    </tr>\n",
       "    <tr>\n",
       "      <th>3</th>\n",
       "      <td>50-59</td>\n",
       "      <td>0.496269</td>\n",
       "    </tr>\n",
       "    <tr>\n",
       "      <th>4</th>\n",
       "      <td>60-69</td>\n",
       "      <td>0.477679</td>\n",
       "    </tr>\n",
       "    <tr>\n",
       "      <th>5</th>\n",
       "      <td>70-79</td>\n",
       "      <td>0.465385</td>\n",
       "    </tr>\n",
       "    <tr>\n",
       "      <th>6</th>\n",
       "      <td>80+</td>\n",
       "      <td>0.458333</td>\n",
       "    </tr>\n",
       "  </tbody>\n",
       "</table>\n",
       "</div>"
      ],
      "text/plain": [
       "  AgeGroup  Diagnosis\n",
       "0    20-29   0.251029\n",
       "1    30-39   0.289593\n",
       "2    40-49   0.230769\n",
       "3    50-59   0.496269\n",
       "4    60-69   0.477679\n",
       "5    70-79   0.465385\n",
       "6      80+   0.458333"
      ]
     },
     "execution_count": 20,
     "metadata": {},
     "output_type": "execute_result"
    }
   ],
   "source": [
    "bins = [ 20, 30, 40, 50, 60, 70, 80, 100]\n",
    "labels = [ '20-29', '30-39', '40-49', '50-59', '60-69', '70-79', '80+']\n",
    "df['AgeGroup'] = pd.cut(df['Age'], bins=bins, labels=labels, right=False)\n",
    "df['AgeGroup']\n",
    "diagnosis_rate = df.groupby('AgeGroup')['Diagnosis'].mean().reset_index()\n",
    "diagnosis_rate"
   ]
  },
  {
   "cell_type": "code",
   "execution_count": 21,
   "id": "672c4a5e",
   "metadata": {},
   "outputs": [
    {
     "data": {
      "text/plain": [
       "<function matplotlib.pyplot.show(close=None, block=None)>"
      ]
     },
     "execution_count": 21,
     "metadata": {},
     "output_type": "execute_result"
    },
    {
     "data": {
      "image/png": "[encoded data removed]",
      "text/plain": [
       "<Figure size 1000x600 with 1 Axes>"
      ]
     },
     "metadata": {},
     "output_type": "display_data"
    }
   ],
   "source": [
    "plt.figure(figsize=(10,6))\n",
    "plt.plot(diagnosis_rate['AgeGroup'],diagnosis_rate['Diagnosis'],color='blue', marker='o')\n",
    "plt.title('Cancer Diagnosis Rate by Age Group')\n",
    "plt.xlabel('AgeGroup')\n",
    "plt.ylabel('MEAN_Diagnosis')\n",
    "plt.grid(True)\n",
    "plt.savefig('Cancer Diagnosis Rate by Age Group.png',dpi=300)\n",
    "plt.show"
   ]
  },
  {
   "cell_type": "markdown",
   "id": "ae11dbff",
   "metadata": {},
   "source": [
    "# INSIGHT\n",
    "From this chart, We can deduce that most cancer patients are between 50 and 59 years old and older individuals  there after. \n",
    "Also, the least affected age range is 40-49\n"
   ]
  },
  {
   "cell_type": "markdown",
   "id": "86d35907",
   "metadata": {},
   "source": [
    "# how  do the different  medical and  lifestyle  factors  affects  the  Diagnosis of  cancer."
   ]
  },
  {
   "cell_type": "code",
   "execution_count": 12,
   "id": "1a60709b",
   "metadata": {},
   "outputs": [
    {
     "data": {
      "text/html": [
       "<div>\n",
       "<style scoped>\n",
       "    .dataframe tbody tr th:only-of-type {\n",
       "        vertical-align: middle;\n",
       "    }\n",
       "\n",
       "    .dataframe tbody tr th {\n",
       "        vertical-align: top;\n",
       "    }\n",
       "\n",
       "    .dataframe thead th {\n",
       "        text-align: right;\n",
       "    }\n",
       "</style>\n",
       "<table border=\"1\" class=\"dataframe\">\n",
       "  <thead>\n",
       "    <tr style=\"text-align: right;\">\n",
       "      <th></th>\n",
       "      <th>Age</th>\n",
       "      <th>BMI</th>\n",
       "      <th>Smoking</th>\n",
       "      <th>GeneticRisk</th>\n",
       "      <th>PhysicalActivity</th>\n",
       "      <th>AlcoholIntake</th>\n",
       "      <th>CancerHistory</th>\n",
       "      <th>Diagnosis</th>\n",
       "    </tr>\n",
       "  </thead>\n",
       "  <tbody>\n",
       "    <tr>\n",
       "      <th>Age</th>\n",
       "      <td>1.000000</td>\n",
       "      <td>0.030246</td>\n",
       "      <td>-0.013914</td>\n",
       "      <td>-0.027025</td>\n",
       "      <td>0.016396</td>\n",
       "      <td>0.003209</td>\n",
       "      <td>-0.010996</td>\n",
       "      <td>0.196603</td>\n",
       "    </tr>\n",
       "    <tr>\n",
       "      <th>BMI</th>\n",
       "      <td>0.030246</td>\n",
       "      <td>1.000000</td>\n",
       "      <td>-0.012616</td>\n",
       "      <td>0.011392</td>\n",
       "      <td>0.011480</td>\n",
       "      <td>0.004711</td>\n",
       "      <td>-0.010824</td>\n",
       "      <td>0.187560</td>\n",
       "    </tr>\n",
       "    <tr>\n",
       "      <th>Smoking</th>\n",
       "      <td>-0.013914</td>\n",
       "      <td>-0.012616</td>\n",
       "      <td>1.000000</td>\n",
       "      <td>-0.021039</td>\n",
       "      <td>-0.043817</td>\n",
       "      <td>-0.001660</td>\n",
       "      <td>0.016368</td>\n",
       "      <td>0.226999</td>\n",
       "    </tr>\n",
       "    <tr>\n",
       "      <th>GeneticRisk</th>\n",
       "      <td>-0.027025</td>\n",
       "      <td>0.011392</td>\n",
       "      <td>-0.021039</td>\n",
       "      <td>1.000000</td>\n",
       "      <td>-0.039721</td>\n",
       "      <td>-0.016864</td>\n",
       "      <td>-0.010833</td>\n",
       "      <td>0.253472</td>\n",
       "    </tr>\n",
       "    <tr>\n",
       "      <th>PhysicalActivity</th>\n",
       "      <td>0.016396</td>\n",
       "      <td>0.011480</td>\n",
       "      <td>-0.043817</td>\n",
       "      <td>-0.039721</td>\n",
       "      <td>1.000000</td>\n",
       "      <td>0.033856</td>\n",
       "      <td>0.018136</td>\n",
       "      <td>-0.150089</td>\n",
       "    </tr>\n",
       "    <tr>\n",
       "      <th>AlcoholIntake</th>\n",
       "      <td>0.003209</td>\n",
       "      <td>0.004711</td>\n",
       "      <td>-0.001660</td>\n",
       "      <td>-0.016864</td>\n",
       "      <td>0.033856</td>\n",
       "      <td>1.000000</td>\n",
       "      <td>0.055403</td>\n",
       "      <td>0.212772</td>\n",
       "    </tr>\n",
       "    <tr>\n",
       "      <th>CancerHistory</th>\n",
       "      <td>-0.010996</td>\n",
       "      <td>-0.010824</td>\n",
       "      <td>0.016368</td>\n",
       "      <td>-0.010833</td>\n",
       "      <td>0.018136</td>\n",
       "      <td>0.055403</td>\n",
       "      <td>1.000000</td>\n",
       "      <td>0.392188</td>\n",
       "    </tr>\n",
       "    <tr>\n",
       "      <th>Diagnosis</th>\n",
       "      <td>0.196603</td>\n",
       "      <td>0.187560</td>\n",
       "      <td>0.226999</td>\n",
       "      <td>0.253472</td>\n",
       "      <td>-0.150089</td>\n",
       "      <td>0.212772</td>\n",
       "      <td>0.392188</td>\n",
       "      <td>1.000000</td>\n",
       "    </tr>\n",
       "  </tbody>\n",
       "</table>\n",
       "</div>"
      ],
      "text/plain": [
       "                       Age       BMI   Smoking  GeneticRisk  PhysicalActivity  \\\n",
       "Age               1.000000  0.030246 -0.013914    -0.027025          0.016396   \n",
       "BMI               0.030246  1.000000 -0.012616     0.011392          0.011480   \n",
       "Smoking          -0.013914 -0.012616  1.000000    -0.021039         -0.043817   \n",
       "GeneticRisk      -0.027025  0.011392 -0.021039     1.000000         -0.039721   \n",
       "PhysicalActivity  0.016396  0.011480 -0.043817    -0.039721          1.000000   \n",
       "AlcoholIntake     0.003209  0.004711 -0.001660    -0.016864          0.033856   \n",
       "CancerHistory    -0.010996 -0.010824  0.016368    -0.010833          0.018136   \n",
       "Diagnosis         0.196603  0.187560  0.226999     0.253472         -0.150089   \n",
       "\n",
       "                  AlcoholIntake  CancerHistory  Diagnosis  \n",
       "Age                    0.003209      -0.010996   0.196603  \n",
       "BMI                    0.004711      -0.010824   0.187560  \n",
       "Smoking               -0.001660       0.016368   0.226999  \n",
       "GeneticRisk           -0.016864      -0.010833   0.253472  \n",
       "PhysicalActivity       0.033856       0.018136  -0.150089  \n",
       "AlcoholIntake          1.000000       0.055403   0.212772  \n",
       "CancerHistory          0.055403       1.000000   0.392188  \n",
       "Diagnosis              0.212772       0.392188   1.000000  "
      ]
     },
     "execution_count": 12,
     "metadata": {},
     "output_type": "execute_result"
    }
   ],
   "source": [
    "correlation_matrix=df.corr()\n",
    "correlation_matrix"
   ]
  },
  {
   "cell_type": "code",
   "execution_count": 13,
   "id": "cc4bff99",
   "metadata": {},
   "outputs": [
    {
     "data": {
      "text/html": [
       "<div>\n",
       "<style scoped>\n",
       "    .dataframe tbody tr th:only-of-type {\n",
       "        vertical-align: middle;\n",
       "    }\n",
       "\n",
       "    .dataframe tbody tr th {\n",
       "        vertical-align: top;\n",
       "    }\n",
       "\n",
       "    .dataframe thead th {\n",
       "        text-align: right;\n",
       "    }\n",
       "</style>\n",
       "<table border=\"1\" class=\"dataframe\">\n",
       "  <thead>\n",
       "    <tr style=\"text-align: right;\">\n",
       "      <th></th>\n",
       "      <th>index</th>\n",
       "      <th>Diagnosis</th>\n",
       "    </tr>\n",
       "  </thead>\n",
       "  <tbody>\n",
       "    <tr>\n",
       "      <th>0</th>\n",
       "      <td>Age</td>\n",
       "      <td>0.196603</td>\n",
       "    </tr>\n",
       "    <tr>\n",
       "      <th>1</th>\n",
       "      <td>BMI</td>\n",
       "      <td>0.187560</td>\n",
       "    </tr>\n",
       "    <tr>\n",
       "      <th>2</th>\n",
       "      <td>Smoking</td>\n",
       "      <td>0.226999</td>\n",
       "    </tr>\n",
       "    <tr>\n",
       "      <th>3</th>\n",
       "      <td>GeneticRisk</td>\n",
       "      <td>0.253472</td>\n",
       "    </tr>\n",
       "    <tr>\n",
       "      <th>4</th>\n",
       "      <td>PhysicalActivity</td>\n",
       "      <td>-0.150089</td>\n",
       "    </tr>\n",
       "    <tr>\n",
       "      <th>5</th>\n",
       "      <td>AlcoholIntake</td>\n",
       "      <td>0.212772</td>\n",
       "    </tr>\n",
       "    <tr>\n",
       "      <th>6</th>\n",
       "      <td>CancerHistory</td>\n",
       "      <td>0.392188</td>\n",
       "    </tr>\n",
       "  </tbody>\n",
       "</table>\n",
       "</div>"
      ],
      "text/plain": [
       "              index  Diagnosis\n",
       "0               Age   0.196603\n",
       "1               BMI   0.187560\n",
       "2           Smoking   0.226999\n",
       "3       GeneticRisk   0.253472\n",
       "4  PhysicalActivity  -0.150089\n",
       "5     AlcoholIntake   0.212772\n",
       "6     CancerHistory   0.392188"
      ]
     },
     "execution_count": 13,
     "metadata": {},
     "output_type": "execute_result"
    }
   ],
   "source": [
    "diagnosis_correlations = correlation_matrix['Diagnosis'].drop('Diagnosis').reset_index()\n",
    "diagnosis_correlations"
   ]
  },
  {
   "cell_type": "code",
   "execution_count": 14,
   "id": "4be4926a",
   "metadata": {},
   "outputs": [
    {
     "data": {
      "image/png": "[encoded data removed]",
      "text/plain": [
       "<Figure size 1200x600 with 1 Axes>"
      ]
     },
     "metadata": {},
     "output_type": "display_data"
    }
   ],
   "source": [
    "# Visualize the correlation matrix using a bar chat\n",
    "plt.figure(figsize=(12, 6))\n",
    "plt.bar(diagnosis_correlations['index'],diagnosis_correlations['Diagnosis'])\n",
    "plt.title('correlation_of Medical and Lifestyle Factors on Diagnosis ')\n",
    "plt.xlabel('Medical and Lifestyle Factors')\n",
    "plt.ylabel('Diagnosis(-1,+1)')\n",
    "plt.grid()\n",
    "plt.show()"
   ]
  },
  {
   "cell_type": "markdown",
   "id": "bafef68c",
   "metadata": {},
   "source": [
    "# INSIGHT\n",
    " We noticed that all  factors moves in the  positive direction and  only  physical  activity   moves  in  the negative   direction.\n",
    " \n",
    "This means  that   for all other  factors except  physical  activity  increases the chances of  cancer  diagnosis as you  do  them more  of have  them more.\n",
    "\n",
    "As physical  activity   increases the chances of cancer diagnosis decreases.\n"
   ]
  },
  {
   "cell_type": "markdown",
   "id": "1defb6b6",
   "metadata": {},
   "source": [
    "# What is the rate of cancer recurrence among individuals with a prior history of cancer across different age groups? Also, calculate the  rate of  cancer  history  reoccurrence\n"
   ]
  },
  {
   "cell_type": "code",
   "execution_count": 22,
   "id": "47f38f5b",
   "metadata": {},
   "outputs": [
    {
     "name": "stderr",
     "output_type": "stream",
     "text": [
      "C:\\Users\\OMETERE\\AppData\\Local\\Temp\\ipykernel_19184\\2838001692.py:6: FutureWarning: Indexing with multiple keys (implicitly converted to a tuple of keys) will be deprecated, use a list instead.\n",
      "  recurrence_rate_and_smoking= df.groupby('AgeGroup')['Recurrence','Smoking'].mean().reset_index()\n"
     ]
    },
    {
     "data": {
      "text/html": [
       "<div>\n",
       "<style scoped>\n",
       "    .dataframe tbody tr th:only-of-type {\n",
       "        vertical-align: middle;\n",
       "    }\n",
       "\n",
       "    .dataframe tbody tr th {\n",
       "        vertical-align: top;\n",
       "    }\n",
       "\n",
       "    .dataframe thead th {\n",
       "        text-align: right;\n",
       "    }\n",
       "</style>\n",
       "<table border=\"1\" class=\"dataframe\">\n",
       "  <thead>\n",
       "    <tr style=\"text-align: right;\">\n",
       "      <th></th>\n",
       "      <th>AgeGroup</th>\n",
       "      <th>Recurrence</th>\n",
       "      <th>Smoking</th>\n",
       "    </tr>\n",
       "  </thead>\n",
       "  <tbody>\n",
       "    <tr>\n",
       "      <th>0</th>\n",
       "      <td>20-29</td>\n",
       "      <td>0.086420</td>\n",
       "      <td>0.263374</td>\n",
       "    </tr>\n",
       "    <tr>\n",
       "      <th>1</th>\n",
       "      <td>30-39</td>\n",
       "      <td>0.117647</td>\n",
       "      <td>0.280543</td>\n",
       "    </tr>\n",
       "    <tr>\n",
       "      <th>2</th>\n",
       "      <td>40-49</td>\n",
       "      <td>0.107692</td>\n",
       "      <td>0.265385</td>\n",
       "    </tr>\n",
       "    <tr>\n",
       "      <th>3</th>\n",
       "      <td>50-59</td>\n",
       "      <td>0.164179</td>\n",
       "      <td>0.309701</td>\n",
       "    </tr>\n",
       "    <tr>\n",
       "      <th>4</th>\n",
       "      <td>60-69</td>\n",
       "      <td>0.111607</td>\n",
       "      <td>0.254464</td>\n",
       "    </tr>\n",
       "    <tr>\n",
       "      <th>5</th>\n",
       "      <td>70-79</td>\n",
       "      <td>0.123077</td>\n",
       "      <td>0.246154</td>\n",
       "    </tr>\n",
       "    <tr>\n",
       "      <th>6</th>\n",
       "      <td>80</td>\n",
       "      <td>0.166667</td>\n",
       "      <td>0.208333</td>\n",
       "    </tr>\n",
       "  </tbody>\n",
       "</table>\n",
       "</div>"
      ],
      "text/plain": [
       "  AgeGroup  Recurrence   Smoking\n",
       "0    20-29    0.086420  0.263374\n",
       "1    30-39    0.117647  0.280543\n",
       "2    40-49    0.107692  0.265385\n",
       "3    50-59    0.164179  0.309701\n",
       "4    60-69    0.111607  0.254464\n",
       "5    70-79    0.123077  0.246154\n",
       "6       80    0.166667  0.208333"
      ]
     },
     "execution_count": 22,
     "metadata": {},
     "output_type": "execute_result"
    }
   ],
   "source": [
    "bins = [ 20, 30, 40, 50, 60, 70, 80, 100]\n",
    "labels = ['20-29', '30-39', '40-49', '50-59', '60-69', '70-79', '80']\n",
    "df['AgeGroup'] = pd.cut(df['Age'], bins=bins, labels=labels, right=False)\n",
    "\n",
    "df['Recurrence'] = np.where((df['CancerHistory'] == 1) & (df['Diagnosis'] == 1), 1, 0)\n",
    "recurrence_rate_and_smoking= df.groupby('AgeGroup')['Recurrence','Smoking'].mean().reset_index()\n",
    "recurrence_rate_and_smoking\n"
   ]
  },
  {
   "cell_type": "code",
   "execution_count": 23,
   "id": "97c40acf",
   "metadata": {},
   "outputs": [
    {
     "data": {
      "image/png": "[encoded data removed]",
      "text/plain": [
       "<Figure size 1200x600 with 2 Axes>"
      ]
     },
     "metadata": {},
     "output_type": "display_data"
    }
   ],
   "source": [
    "fig, ax1 = plt.subplots(figsize=(12, 6))\n",
    "\n",
    "# Plot recurrence rate\n",
    "sns.barplot(x='AgeGroup', y='Recurrence', data=recurrence_rate_and_smoking, ax=ax1)\n",
    "ax1.set_xlabel('Age Group')\n",
    "ax1.set_ylabel('Recurrence Rate', color='blue')\n",
    "ax1.tick_params(axis='y', labelcolor='blue')\n",
    "\n",
    "# Create a secondary y-axis\n",
    "ax2 = ax1.twinx()\n",
    "sns.lineplot(x='AgeGroup', y='Smoking', data=recurrence_rate_and_smoking, color='black', marker='o', ax=ax2)\n",
    "ax2.set_ylabel('Smoking Rate', color='black')\n",
    "ax2.tick_params(axis='y', labelcolor='black')\n",
    "\n",
    "plt.title('Cancer Recurrence Rate and Smoking Rate by Age Group')\n",
    "fig.tight_layout()\n",
    "plt.show()"
   ]
  },
  {
   "cell_type": "markdown",
   "id": "53a4e94c",
   "metadata": {},
   "source": [
    "# INSIGHT\n",
    "From this chart, We can deduce that most cancer patients are between 50 and 59 , and   70-80 has higher  chances  of  reoccurrence\n",
    "\n"
   ]
  },
  {
   "cell_type": "code",
   "execution_count": 19,
   "id": "22e710eb",
   "metadata": {},
   "outputs": [
    {
     "data": {
      "text/plain": [
       "83.33333333333334"
      ]
     },
     "execution_count": 19,
     "metadata": {},
     "output_type": "execute_result"
    }
   ],
   "source": [
    "cancer_history=df[df['CancerHistory']==1]\n",
    "re_occurence=cancer_history[cancer_history['Diagnosis']==1]\n",
    "re_occurence_rate= len(re_occurence)/len(cancer_history)*100\n",
    "re_occurence_rate"
   ]
  },
  {
   "cell_type": "code",
   "execution_count": null,
   "id": "5e1ddd2b",
   "metadata": {},
   "outputs": [],
   "source": []
  }
 ],
 "metadata": {
  "kernelspec": {
   "display_name": "Python 3 (ipykernel)",
   "language": "python",
   "name": "python3"
  },
  "language_info": {
   "codemirror_mode": {
    "name": "ipython",
    "version": 3
   },
   "file_extension": ".py",
   "mimetype": "text/x-python",
   "name": "python",
   "nbconvert_exporter": "python",
   "pygments_lexer": "ipython3",
   "version": "3.9.13"
  },
  "varInspector": {
   "cols": {
    "lenName": 16,
    "lenType": 16,
    "lenVar": 40
   },
   "kernels_config": {
    "python": {
     "delete_cmd_postfix": "",
     "delete_cmd_prefix": "del ",
     "library": "var_list.py",
     "varRefreshCmd": "print(var_dic_list())"
    },
    "r": {
     "delete_cmd_postfix": ") ",
     "delete_cmd_prefix": "rm(",
     "library": "var_list.r",
     "varRefreshCmd": "cat(var_dic_list()) "
    }
   },
   "types_to_exclude": [
    "module",
    "function",
    "builtin_function_or_method",
    "instance",
    "_Feature"
   ],
   "window_display": false
  }
 },
 "nbformat": 4,
 "nbformat_minor": 5
}
